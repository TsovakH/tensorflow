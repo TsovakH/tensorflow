{
 "cells": [
  {
   "cell_type": "code",
   "execution_count": 2,
   "metadata": {
    "collapsed": false,
    "deletable": true,
    "editable": true
   },
   "outputs": [
    {
     "ename": "NameError",
     "evalue": "name 'face' is not defined",
     "output_type": "error",
     "traceback": [
      "\u001b[0;31m---------------------------------------------------------------------------\u001b[0m",
      "\u001b[0;31mNameError\u001b[0m                                 Traceback (most recent call last)",
      "\u001b[0;32m<ipython-input-2-b1868bf11eb3>\u001b[0m in \u001b[0;36m<module>\u001b[0;34m()\u001b[0m\n\u001b[0;32m----> 1\u001b[0;31m \u001b[0msy\u001b[0m\u001b[0;34m,\u001b[0m \u001b[0msx\u001b[0m \u001b[0;34m=\u001b[0m \u001b[0mface\u001b[0m\u001b[0;34m.\u001b[0m\u001b[0mshape\u001b[0m\u001b[0;34m\u001b[0m\u001b[0m\n\u001b[0m\u001b[1;32m      2\u001b[0m \u001b[0my\u001b[0m\u001b[0;34m,\u001b[0m \u001b[0mx\u001b[0m \u001b[0;34m=\u001b[0m \u001b[0mnp\u001b[0m\u001b[0;34m.\u001b[0m\u001b[0mogrid\u001b[0m\u001b[0;34m[\u001b[0m\u001b[0;34m:\u001b[0m\u001b[0msy\u001b[0m\u001b[0;34m,\u001b[0m \u001b[0;34m:\u001b[0m\u001b[0msx\u001b[0m\u001b[0;34m]\u001b[0m\u001b[0;34m\u001b[0m\u001b[0m\n\u001b[1;32m      3\u001b[0m \u001b[0mcenterx\u001b[0m\u001b[0;34m,\u001b[0m \u001b[0mcentery\u001b[0m \u001b[0;34m=\u001b[0m \u001b[0;36m660\u001b[0m\u001b[0;34m,\u001b[0m \u001b[0;36m300\u001b[0m\u001b[0;34m\u001b[0m\u001b[0m\n\u001b[1;32m      4\u001b[0m \u001b[0mmask\u001b[0m \u001b[0;34m=\u001b[0m \u001b[0;34m(\u001b[0m\u001b[0;34m(\u001b[0m\u001b[0my\u001b[0m \u001b[0;34m-\u001b[0m \u001b[0mcentery\u001b[0m\u001b[0;34m)\u001b[0m\u001b[0;34m**\u001b[0m\u001b[0;36m2\u001b[0m \u001b[0;34m+\u001b[0m \u001b[0;34m(\u001b[0m\u001b[0mx\u001b[0m \u001b[0;34m-\u001b[0m \u001b[0mcenterx\u001b[0m\u001b[0;34m)\u001b[0m\u001b[0;34m**\u001b[0m\u001b[0;36m2\u001b[0m\u001b[0;34m)\u001b[0m \u001b[0;34m>\u001b[0m \u001b[0;36m230\u001b[0m\u001b[0;34m**\u001b[0m\u001b[0;36m2\u001b[0m\u001b[0;34m\u001b[0m\u001b[0m\n\u001b[1;32m      5\u001b[0m \u001b[0mface\u001b[0m\u001b[0;34m[\u001b[0m\u001b[0mmask\u001b[0m\u001b[0;34m]\u001b[0m \u001b[0;34m=\u001b[0m \u001b[0;36m0\u001b[0m\u001b[0;34m\u001b[0m\u001b[0m\n",
      "\u001b[0;31mNameError\u001b[0m: name 'face' is not defined"
     ]
    }
   ],
   "source": [
    "sy, sx = face.shape\n",
    "y, x = np.ogrid[:sy, :sx]\n",
    "centerx, centery = 660, 300\n",
    "mask = ((y - centery)**2 + (x - centerx)**2) > 230**2\n",
    "face[mask] = 0\n",
    "plt.imshow(face, cmap=plt.cm.gray)\n",
    "plt.show()"
   ]
  },
  {
   "cell_type": "code",
   "execution_count": null,
   "metadata": {
    "collapsed": true,
    "deletable": true,
    "editable": true
   },
   "outputs": [],
   "source": [
    "!wget https://raw.githubusercontent.com/tumregels/tumo-tf/master/numpy.ipynb"
   ]
  },
  {
   "cell_type": "code",
   "execution_count": 1,
   "metadata": {
    "collapsed": false,
    "deletable": true,
    "editable": true
   },
   "outputs": [
    {
     "name": "stdout",
     "output_type": "stream",
     "text": [
      "--2017-03-25 18:05:18--  https://github.com/tumregels/tumo-tf/raw/master/numpy-tutorial-solved.ipynb\n",
      "Resolving github.com (github.com)... 192.30.253.112, 192.30.253.113\n",
      "Connecting to github.com (github.com)|192.30.253.112|:443... connected.\n",
      "HTTP request sent, awaiting response... 302 Found\n",
      "Location: https://raw.githubusercontent.com/tumregels/tumo-tf/master/numpy-tutorial-solved.ipynb [following]\n",
      "--2017-03-25 18:05:19--  https://raw.githubusercontent.com/tumregels/tumo-tf/master/numpy-tutorial-solved.ipynb\n",
      "Resolving raw.githubusercontent.com (raw.githubusercontent.com)... 151.101.12.133\n",
      "Connecting to raw.githubusercontent.com (raw.githubusercontent.com)|151.101.12.133|:443... connected.\n",
      "HTTP request sent, awaiting response... 200 OK\n",
      "Length: 1582753 (1.5M) [text/plain]\n",
      "Saving to: ‘numpy-tutorial-solved.ipynb’\n",
      "\n",
      "numpy-tutorial-solv 100%[===================>]   1.51M  2.25MB/s    in 0.7s    \n",
      "\n",
      "2017-03-25 18:05:20 (2.25 MB/s) - ‘numpy-tutorial-solved.ipynb’ saved [1582753/1582753]\n",
      "\n"
     ]
    }
   ],
   "source": [
    "!wget https://github.com/tumregels/tumo-tf/raw/master/numpy-tutorial-solved.ipynb"
   ]
  },
  {
   "cell_type": "code",
   "execution_count": null,
   "metadata": {
    "collapsed": false,
    "deletable": true,
    "editable": true
   },
   "outputs": [],
   "source": [
    "!wget https://raw.githubusercontent.com/tumregels/pytraining/mic1/lesson4/matplotlib_library.ipynb"
   ]
  },
  {
   "cell_type": "code",
   "execution_count": 1,
   "metadata": {
    "collapsed": false,
    "deletable": true,
    "editable": true
   },
   "outputs": [
    {
     "name": "stdout",
     "output_type": "stream",
     "text": [
      "--2017-03-25 09:45:49--  https://github.com/jrjohansson/scientific-python-lectures/raw/master/Lecture-4-Matplotlib.ipynb\n",
      "Resolving github.com (github.com)... 192.30.253.112, 192.30.253.113\n",
      "Connecting to github.com (github.com)|192.30.253.112|:443... connected.\n",
      "HTTP request sent, awaiting response... 302 Found\n",
      "Location: https://raw.githubusercontent.com/jrjohansson/scientific-python-lectures/master/Lecture-4-Matplotlib.ipynb [following]\n",
      "--2017-03-25 09:45:50--  https://raw.githubusercontent.com/jrjohansson/scientific-python-lectures/master/Lecture-4-Matplotlib.ipynb\n",
      "Resolving raw.githubusercontent.com (raw.githubusercontent.com)... 151.101.12.133\n",
      "Connecting to raw.githubusercontent.com (raw.githubusercontent.com)|151.101.12.133|:443... connected.\n",
      "HTTP request sent, awaiting response... 200 OK\n",
      "Length: 1755099 (1.7M) [text/plain]\n",
      "Saving to: ‘Lecture-4-Matplotlib.ipynb.1’\n",
      "\n",
      "Lecture-4-Matplotli 100%[===================>]   1.67M  2.15MB/s    in 0.8s    \n",
      "\n",
      "2017-03-25 09:45:52 (2.15 MB/s) - ‘Lecture-4-Matplotlib.ipynb.1’ saved [1755099/1755099]\n",
      "\n"
     ]
    }
   ],
   "source": [
    "!wget https://github.com/jrjohansson/scientific-python-lectures/raw/master/Lecture-4-Matplotlib.ipynb"
   ]
  },
  {
   "cell_type": "code",
   "execution_count": null,
   "metadata": {
    "collapsed": false,
    "deletable": true,
    "editable": true
   },
   "outputs": [],
   "source": [
    "!wget https://raw.githubusercontent.com/tumregels/pytraining/mic1/lesson4/magic_commands.ipynb"
   ]
  },
  {
   "cell_type": "code",
   "execution_count": null,
   "metadata": {
    "collapsed": false,
    "deletable": true,
    "editable": true
   },
   "outputs": [],
   "source": [
    "!wget https://raw.githubusercontent.com/tumregels/pytraining/mic1/lesson8/markdown.ipynb"
   ]
  },
  {
   "cell_type": "code",
   "execution_count": 3,
   "metadata": {
    "collapsed": false,
    "deletable": true,
    "editable": true
   },
   "outputs": [
    {
     "name": "stdout",
     "output_type": "stream",
     "text": [
      "--2017-03-25 19:23:42--  https://raw.githubusercontent.com/tumregels/pytraining/mic1/lesson8/lamdba_function.ipynb\n",
      "Resolving raw.githubusercontent.com (raw.githubusercontent.com)... 151.101.12.133\n",
      "Connecting to raw.githubusercontent.com (raw.githubusercontent.com)|151.101.12.133|:443... connected.\n",
      "HTTP request sent, awaiting response... 200 OK\n",
      "Length: 4851 (4.7K) [text/plain]\n",
      "Saving to: ‘lamdba_function.ipynb’\n",
      "\n",
      "lamdba_function.ipy 100%[===================>]   4.74K  --.-KB/s    in 0s      \n",
      "\n",
      "2017-03-25 19:23:42 (27.6 MB/s) - ‘lamdba_function.ipynb’ saved [4851/4851]\n",
      "\n"
     ]
    }
   ],
   "source": [
    "!wget https://raw.githubusercontent.com/tumregels/pytraining/mic1/lesson8/lamdba_function.ipynb\n",
    "#!unzip lesson_git.zip"
   ]
  },
  {
   "cell_type": "code",
   "execution_count": null,
   "metadata": {
    "collapsed": false,
    "deletable": true,
    "editable": true
   },
   "outputs": [],
   "source": [
    "!wget https://raw.githubusercontent.com/gertingold/euroscipy16-numpy-tutorial/master/numpy-tutorial-solved.ipynb"
   ]
  },
  {
   "cell_type": "code",
   "execution_count": null,
   "metadata": {
    "collapsed": true,
    "deletable": true,
    "editable": true
   },
   "outputs": [],
   "source": [
    "!git clone https://github.com/aymericdamien/TensorFlow-Examples.git"
   ]
  }
 ],
 "metadata": {
  "kernelspec": {
   "display_name": "Python 3",
   "language": "python",
   "name": "python3"
  },
  "language_info": {
   "codemirror_mode": {
    "name": "ipython",
    "version": 3
   },
   "file_extension": ".py",
   "mimetype": "text/x-python",
   "name": "python",
   "nbconvert_exporter": "python",
   "pygments_lexer": "ipython3",
   "version": "3.6.0"
  }
 },
 "nbformat": 4,
 "nbformat_minor": 2
}
